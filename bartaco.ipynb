{
 "cells": [
  {
   "cell_type": "code",
   "execution_count": 91,
   "metadata": {},
   "outputs": [],
   "source": [
    "# importing the pandas library\n",
    "from csv import QUOTE_NONNUMERIC, QUOTE_MINIMAL\n",
    "from operator import index\n",
    "from numpy import int_\n",
    "import pandas as pd\n"
   ]
  },
  {
   "cell_type": "code",
   "execution_count": 92,
   "metadata": {},
   "outputs": [],
   "source": [
    "ORIGINAL = 'juicer file output 9-29.csv'\n",
    "PRICE_CHANGE = 'price_change_THURSDAY_17hr.csv'\n",
    "COL_NAME = 'Price Seq'\n",
    "COL_NEW_PRICE = 'Price 1'"
   ]
  },
  {
   "cell_type": "code",
   "execution_count": 100,
   "metadata": {},
   "outputs": [
    {
     "data": {
      "text/plain": [
       "(290, 47)"
      ]
     },
     "execution_count": 100,
     "metadata": {},
     "output_type": "execute_result"
    }
   ],
   "source": [
    "df1 = pd.read_csv(ORIGINAL, index_col=False)\n",
    "df1.shape"
   ]
  },
  {
   "cell_type": "code",
   "execution_count": 101,
   "metadata": {},
   "outputs": [
    {
     "data": {
      "text/plain": [
       "(290, 2)"
      ]
     },
     "execution_count": 101,
     "metadata": {},
     "output_type": "execute_result"
    }
   ],
   "source": [
    "df2 = pd.read_csv(PRICE_CHANGE, usecols=[COL_NAME, COL_NEW_PRICE], index_col=False)\n",
    "df2.shape"
   ]
  },
  {
   "cell_type": "code",
   "execution_count": 103,
   "metadata": {},
   "outputs": [
    {
     "data": {
      "text/plain": [
       "(290, 48)"
      ]
     },
     "execution_count": 103,
     "metadata": {},
     "output_type": "execute_result"
    }
   ],
   "source": [
    "df3=df1.merge(df2, on='Price Seq', how='inner')\n",
    "df3.shape"
   ]
  },
  {
   "cell_type": "code",
   "execution_count": 104,
   "metadata": {},
   "outputs": [],
   "source": [
    "df3['Price 1_x']=df3['Price 1_y']\n",
    "df3.drop(['Price 1_y'], axis=1, inplace=True)\n",
    "df3.rename(columns={'Price 1_x': 'Price 1'}, inplace=True)"
   ]
  },
  {
   "cell_type": "code",
   "execution_count": 97,
   "metadata": {},
   "outputs": [
    {
     "data": {
      "text/plain": [
       "Item name               object\n",
       "Item Seq                 int64\n",
       "Item Number              int64\n",
       "NLU Group              float64\n",
       "NLU Number             float64\n",
       "Price Group             object\n",
       "Price Group Seq          int64\n",
       "Price Tier              object\n",
       "Price Tier Seq           int64\n",
       "Price Seq                int64\n",
       "Price 1                float64\n",
       "Price 2                float64\n",
       "Price 3                float64\n",
       "Price 4                float64\n",
       "Price 5                float64\n",
       "Price 6                float64\n",
       "Price 7                float64\n",
       "Price 8                float64\n",
       "Price 9                float64\n",
       "Price 10               float64\n",
       "Cost 1                 float64\n",
       "Cost 2                 float64\n",
       "Cost 3                 float64\n",
       "Cost 4                 float64\n",
       "Cost 5                 float64\n",
       "Cost 6                 float64\n",
       "Cost 7                 float64\n",
       "Cost 8                 float64\n",
       "Cost 9                 float64\n",
       "Cost 10                float64\n",
       "Menu Board Price 1     float64\n",
       "Menu Board Price 2     float64\n",
       "Menu Board Price 3     float64\n",
       "Menu Board Price 4     float64\n",
       "Menu Board Price 5     float64\n",
       "Menu Board Price 6     float64\n",
       "Menu Board Price 7     float64\n",
       "Menu Board Price 8     float64\n",
       "Menu Board Price 9     float64\n",
       "Menu Board Price 10    float64\n",
       "Tare                   float64\n",
       "Surcharge tax          float64\n",
       "Effective from         float64\n",
       "Effective to           float64\n",
       "Cross Reference 1      float64\n",
       "Cross Reference 2      float64\n",
       "Combo Group            float64\n",
       "dtype: object"
      ]
     },
     "execution_count": 97,
     "metadata": {},
     "output_type": "execute_result"
    }
   ],
   "source": [
    "df3.dtypes"
   ]
  },
  {
   "cell_type": "code",
   "execution_count": 105,
   "metadata": {},
   "outputs": [],
   "source": [
    "df3.to_csv(\"test_final.csv\", index=False, line_terminator='\\r\\n',  float_format='%.2f')"
   ]
  }
 ],
 "metadata": {
  "kernelspec": {
   "display_name": "Python 3.10.4 64-bit",
   "language": "python",
   "name": "python3"
  },
  "language_info": {
   "codemirror_mode": {
    "name": "ipython",
    "version": 3
   },
   "file_extension": ".py",
   "mimetype": "text/x-python",
   "name": "python",
   "nbconvert_exporter": "python",
   "pygments_lexer": "ipython3",
   "version": "3.10.4"
  },
  "orig_nbformat": 4,
  "vscode": {
   "interpreter": {
    "hash": "e7370f93d1d0cde622a1f8e1c04877d8463912d04d973331ad4851f04de6915a"
   }
  }
 },
 "nbformat": 4,
 "nbformat_minor": 2
}
