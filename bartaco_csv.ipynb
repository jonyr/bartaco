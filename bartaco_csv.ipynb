{
 "cells": [
  {
   "cell_type": "code",
   "execution_count": 47,
   "metadata": {},
   "outputs": [],
   "source": [
    "import csv\n",
    "import shutil\n",
    "from tempfile import NamedTemporaryFile\n"
   ]
  },
  {
   "cell_type": "code",
   "execution_count": 2,
   "metadata": {},
   "outputs": [],
   "source": [
    "ORIGINAL = 'juicer file output 9-29.csv'\n",
    "ORIGINAL_KEY_FIELDNAME = 'Price Seq'\n",
    "ORIGINAL_VAL_FIELDNAME = 'Price 1'\n",
    "\n",
    "CHANGES = 'price_change_THURSDAY_17hr.csv'\n",
    "\n",
    "\n",
    "DICT_KEY_FIELDNAME = 'Price Seq'\n",
    "DICT_VAL_FIELDNAME = 'Price 1'\n",
    "\n",
    "OUTPUT_FILE = 'my.csv'"
   ]
  },
  {
   "cell_type": "code",
   "execution_count": 48,
   "metadata": {},
   "outputs": [
    {
     "ename": "AttributeError",
     "evalue": "'str' object has no attribute 'quantize'",
     "output_type": "error",
     "traceback": [
      "\u001b[0;31m---------------------------------------------------------------------------\u001b[0m",
      "\u001b[0;31mAttributeError\u001b[0m                            Traceback (most recent call last)",
      "\u001b[1;32m/u1/bartaco/bartaco_csv.ipynb Celda 3\u001b[0m in \u001b[0;36m<cell line: 10>\u001b[0;34m()\u001b[0m\n\u001b[1;32m     <a href='vscode-notebook-cell:/u1/bartaco/bartaco_csv.ipynb#W2sZmlsZQ%3D%3D?line=10'>11</a>\u001b[0m reader \u001b[39m=\u001b[39m csv\u001b[39m.\u001b[39mDictReader(changes)    \n\u001b[1;32m     <a href='vscode-notebook-cell:/u1/bartaco/bartaco_csv.ipynb#W2sZmlsZQ%3D%3D?line=11'>12</a>\u001b[0m \u001b[39mfor\u001b[39;00m row \u001b[39min\u001b[39;00m reader:        \n\u001b[0;32m---> <a href='vscode-notebook-cell:/u1/bartaco/bartaco_csv.ipynb#W2sZmlsZQ%3D%3D?line=12'>13</a>\u001b[0m     \u001b[39mprint\u001b[39m(Decimal(row[DICT_VAL_FIELDNAME]\u001b[39m.\u001b[39;49mquantize(Decimal(\u001b[39m'\u001b[39m\u001b[39m.01\u001b[39m\u001b[39m'\u001b[39m))))\n\u001b[1;32m     <a href='vscode-notebook-cell:/u1/bartaco/bartaco_csv.ipynb#W2sZmlsZQ%3D%3D?line=13'>14</a>\u001b[0m     memory_dict[\u001b[39mint\u001b[39m(row[DICT_KEY_FIELDNAME])] \u001b[39m=\u001b[39m \u001b[39mround\u001b[39m(\u001b[39mfloat\u001b[39m(row[DICT_VAL_FIELDNAME]),\u001b[39m2\u001b[39m)\n\u001b[1;32m     <a href='vscode-notebook-cell:/u1/bartaco/bartaco_csv.ipynb#W2sZmlsZQ%3D%3D?line=15'>16</a>\u001b[0m \u001b[39mprint\u001b[39m(memory_dict)\n",
      "\u001b[0;31mAttributeError\u001b[0m: 'str' object has no attribute 'quantize'"
     ]
    }
   ],
   "source": [
    "tempfile = NamedTemporaryFile(mode='w', delete=False)\n",
    "\n",
    "memory_dict = dict()\n",
    "\n",
    "# Create a memory dictionary where the item key is price_sec\n",
    "# and value is the updated price value\n",
    "with open(CHANGES, newline='', encoding='utf8') as changes:\n",
    "    reader = csv.DictReader(changes)    \n",
    "    for row in reader:        \n",
    "        memory_dict[int(row[DICT_KEY_FIELDNAME])] = row[DICT_VAL_FIELDNAME]\n",
    "\n",
    "\n",
    "with open(\n",
    "    ORIGINAL,\n",
    "    'r',\n",
    "    newline='',\n",
    "    encoding='utf-8',\n",
    ") as csvfile:\n",
    "    reader = csv.DictReader(csvfile)    \n",
    "    writer = csv.DictWriter(\n",
    "        tempfile,\n",
    "        fieldnames=reader.fieldnames,\n",
    "        quoting=csv.QUOTE_NONE,\n",
    "        quotechar='/'\n",
    "    )\n",
    "    writer.writeheader()\n",
    "    writer.fieldnames.append(None)\n",
    "    for row in reader: \n",
    "                \n",
    "        for field in ('Item name','Price Group','Price Tier', 'Cross Reference 1','Cross Reference 2','Combo Group'):    \n",
    "            row[field]='\"'+row[field]+'\"'\n",
    "                   \n",
    "        \n",
    "        row[ORIGINAL_VAL_FIELDNAME] = memory_dict[int(row[ORIGINAL_KEY_FIELDNAME])]\n",
    "        writer.writerow(row)\n",
    "\n",
    "shutil.move(tempfile.name, OUTPUT_FILE)\n"
   ]
  }
 ],
 "metadata": {
  "kernelspec": {
   "display_name": "Python 3.10.4 64-bit",
   "language": "python",
   "name": "python3"
  },
  "language_info": {
   "codemirror_mode": {
    "name": "ipython",
    "version": 3
   },
   "file_extension": ".py",
   "mimetype": "text/x-python",
   "name": "python",
   "nbconvert_exporter": "python",
   "pygments_lexer": "ipython3",
   "version": "3.10.4"
  },
  "orig_nbformat": 4,
  "vscode": {
   "interpreter": {
    "hash": "e7370f93d1d0cde622a1f8e1c04877d8463912d04d973331ad4851f04de6915a"
   }
  }
 },
 "nbformat": 4,
 "nbformat_minor": 2
}
